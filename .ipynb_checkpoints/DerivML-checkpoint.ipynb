{
 "cells": [
  {
   "cell_type": "code",
   "execution_count": 1,
   "metadata": {},
   "outputs": [],
   "source": [
    "import tensorflow as tf\n",
    "from tensorflow import keras\n",
    "from tensorflow.keras import layers\n",
    "import numpy as np\n",
    "from scipy.stats import norm\n",
    "import pandas as pd\n",
    "import matplotlib.pyplot as plt\n",
    "import matplotlib as mpl"
   ]
  },
  {
   "cell_type": "code",
   "execution_count": 2,
   "metadata": {},
   "outputs": [],
   "source": [
    "def black(f, vol, k, tau, is_call):\n",
    "    stdev = vol * np.sqrt(tau)\n",
    "    dp = np.log(f / k) / stdev + 0.5 * stdev\n",
    "    dm = np.log(f / k) / stdev - 0.5 * stdev\n",
    "    w = 1 if is_call else -1\n",
    "    return w * (f * norm.cdf(w * dp) - k * norm.cdf(w * dm))"
   ]
  },
  {
   "cell_type": "code",
   "execution_count": 3,
   "metadata": {},
   "outputs": [],
   "source": [
    "def make_dataset(num_of_data):\n",
    "    fs = []\n",
    "    vols = []\n",
    "    ks = []\n",
    "    taus = []\n",
    "    pvs = []\n",
    "\n",
    "\n",
    "    np.random.seed(1)\n",
    "    for i in range(num_of_data):\n",
    "        f = 100 * np.exp(np.random.randn() - 0.5)\n",
    "        vol = 0.0001 + 0.9999 * np.random.random()\n",
    "        k = 100 * np.exp(np.random.randn() - 0.5)\n",
    "        tau = np.random.randint(1, 3650) / 365.0\n",
    "        is_call = True\n",
    "        pv = black(f, vol, k, tau, is_call)\n",
    "\n",
    "        fs += [f]\n",
    "        vols += [vol]\n",
    "        ks += [k]\n",
    "        taus += [tau]\n",
    "        pvs += [pv]\n",
    "    \n",
    "    return pd.DataFrame(\n",
    "        data={'fwd': fs, 'vol': vols, 'strike': ks, 'expiry': taus, 'pv': pvs}, \n",
    "        columns=['fwd', 'vol', 'strike', 'expiry', 'pv'])"
   ]
  },
  {
   "cell_type": "code",
   "execution_count": 4,
   "metadata": {},
   "outputs": [],
   "source": [
    "num_of_data = 100000\n",
    "train_dataset = make_dataset(num_of_data)\n",
    "#train_dataset.tail()"
   ]
  },
  {
   "cell_type": "code",
   "execution_count": 5,
   "metadata": {},
   "outputs": [],
   "source": [
    "#train_dataset.plot(kind='scatter', x='fwd', y='pv')\n",
    "#train_dataset.plot(kind='scatter', x='vol', y='pv')\n",
    "#train_dataset.plot(kind='scatter', x='strike', y='pv')\n",
    "#train_dataset.plot(kind='scatter', x='expiry', y='pv')"
   ]
  },
  {
   "cell_type": "code",
   "execution_count": 6,
   "metadata": {},
   "outputs": [
    {
     "name": "stdout",
     "output_type": "stream",
     "text": [
      "64.00534046365172\n",
      "125.03396886144407\n"
     ]
    }
   ],
   "source": [
    "train_stats = train_dataset.describe()\n",
    "train_stats = train_stats.transpose()\n",
    "print(train_stats['mean'].pv)\n",
    "print(train_stats['std'].pv)"
   ]
  },
  {
   "cell_type": "code",
   "execution_count": 7,
   "metadata": {},
   "outputs": [],
   "source": [
    "def normalize(dataset):\n",
    "    return (dataset - train_stats['mean']) / train_stats['std']"
   ]
  },
  {
   "cell_type": "code",
   "execution_count": 8,
   "metadata": {},
   "outputs": [],
   "source": [
    "norm_train_dataset = normalize(train_dataset)"
   ]
  },
  {
   "cell_type": "code",
   "execution_count": 9,
   "metadata": {},
   "outputs": [],
   "source": [
    "train_labels = norm_train_dataset.pop('pv')"
   ]
  },
  {
   "cell_type": "code",
   "execution_count": 10,
   "metadata": {},
   "outputs": [],
   "source": [
    "def build_model():\n",
    "    model = keras.Sequential([\n",
    "        layers.Dense(64, activation=tf.nn.relu, input_shape=[len(norm_train_dataset.keys())]), \n",
    "        layers.Dense(64, activation=tf.nn.relu), \n",
    "        layers.Dense(1)\n",
    "    ])\n",
    "    \n",
    "    optimizer = keras.optimizers.RMSprop(0.001)\n",
    "    \n",
    "    model.compile(loss='mean_squared_error', \n",
    "                 optimizer=optimizer, \n",
    "                 metrics=['mean_squared_error'])\n",
    "    \n",
    "    return model"
   ]
  },
  {
   "cell_type": "code",
   "execution_count": 11,
   "metadata": {},
   "outputs": [
    {
     "name": "stderr",
     "output_type": "stream",
     "text": [
      "WARNING: Logging before flag parsing goes to stderr.\n",
      "W0630 17:49:27.425918 25468 deprecation.py:506] From C:\\Users\\peace\\Anaconda3\\envs\\tensorflow16\\lib\\site-packages\\tensorflow\\python\\ops\\init_ops.py:1251: calling VarianceScaling.__init__ (from tensorflow.python.ops.init_ops) with dtype is deprecated and will be removed in a future version.\n",
      "Instructions for updating:\n",
      "Call initializer instance with the dtype argument instead of passing it to the constructor\n"
     ]
    }
   ],
   "source": [
    "model = build_model()"
   ]
  },
  {
   "cell_type": "code",
   "execution_count": 12,
   "metadata": {},
   "outputs": [],
   "source": [
    "#model.summary()"
   ]
  },
  {
   "cell_type": "code",
   "execution_count": 13,
   "metadata": {},
   "outputs": [
    {
     "name": "stdout",
     "output_type": "stream",
     "text": [
      "\n",
      "....................................................................................................\n",
      "....................................................................................................\n",
      "....................................................................................................\n",
      "....................................................................................................\n",
      "....................................................................................................\n",
      "....................................................................................................\n",
      "....................................................................................................\n",
      "....................................................................................................\n",
      "....................................................................................................\n",
      "...................................................................................................."
     ]
    }
   ],
   "source": [
    "class PrintDot(keras.callbacks.Callback):\n",
    "  def on_epoch_end(self, epoch, logs):\n",
    "    if epoch % 100 == 0: print('')\n",
    "    print('.', end='')\n",
    "\n",
    "history = model.fit(norm_train_dataset, train_labels, epochs=1000, validation_split=0.2, verbose=0, callbacks=[PrintDot()])"
   ]
  },
  {
   "cell_type": "code",
   "execution_count": 14,
   "metadata": {},
   "outputs": [],
   "source": [
    "hist = pd.DataFrame(history.history)\n",
    "hist['epoch'] = history.epoch\n",
    "#hist.tail()"
   ]
  },
  {
   "cell_type": "code",
   "execution_count": 15,
   "metadata": {},
   "outputs": [
    {
     "data": {
      "image/png": "[encoded data removed]",
      "text/plain": [
       "<Figure size 432x288 with 1 Axes>"
      ]
     },
     "metadata": {
      "needs_background": "light"
     },
     "output_type": "display_data"
    }
   ],
   "source": [
    "def plot_history(history):\n",
    "    hist = pd.DataFrame(history.history)\n",
    "    hist['epoch'] = history.epoch\n",
    "    \n",
    "    plt.figure()\n",
    "    plt.xlabel('Epoch')\n",
    "    plt.ylabel('Mean Squared Error')\n",
    "    plt.plot(hist['epoch'], hist['mean_squared_error'], label='Train Error')\n",
    "    plt.plot(hist['epoch'], hist['val_mean_squared_error'], label='Val Error')\n",
    "    plt.legend()\n",
    "    \n",
    "plot_history(history)"
   ]
  },
  {
   "cell_type": "code",
   "execution_count": 16,
   "metadata": {},
   "outputs": [],
   "source": [
    "def make_test_delta(num_of_data, lb, ub, vol, strike, expiry, is_call):\n",
    "    fs = []\n",
    "    vols = []\n",
    "    ks = []\n",
    "    taus = []\n",
    "    pvs = []\n",
    "\n",
    "    for i in range(1, num_of_data + 1):\n",
    "        f = (ub - lb) * i / num_of_data\n",
    "        pv = black(f, vol, strike, expiry, is_call)\n",
    "\n",
    "        fs += [f]\n",
    "        vols += [vol]\n",
    "        ks += [strike]\n",
    "        taus += [expiry]\n",
    "        pvs += [pv]\n",
    "    \n",
    "    return pd.DataFrame(\n",
    "        data={'fwd': fs, 'vol': vols, 'strike': ks, 'expiry': taus, 'pv': pvs}, \n",
    "        columns=['fwd', 'vol', 'strike', 'expiry', 'pv'])\n",
    "\n",
    "def make_test_vega(num_of_data, lb, ub, fwd, strike, expiry, is_call):\n",
    "    fs = []\n",
    "    vols = []\n",
    "    ks = []\n",
    "    taus = []\n",
    "    pvs = []\n",
    "\n",
    "    for i in range(1, num_of_data + 1):\n",
    "        vol = (ub - lb) * i / num_of_data\n",
    "        pv = black(fwd, vol, strike, expiry, is_call)\n",
    "\n",
    "        fs += [fwd]\n",
    "        vols += [vol]\n",
    "        ks += [strike]\n",
    "        taus += [expiry]\n",
    "        pvs += [pv]\n",
    "    \n",
    "    return pd.DataFrame(\n",
    "        data={'fwd': fs, 'vol': vols, 'strike': ks, 'expiry': taus, 'pv': pvs}, \n",
    "        columns=['fwd', 'vol', 'strike', 'expiry', 'pv'])"
   ]
  },
  {
   "cell_type": "code",
   "execution_count": 17,
   "metadata": {
    "scrolled": true
   },
   "outputs": [],
   "source": [
    "strike = 100.0\n",
    "expiry = 1.0\n",
    "is_call = True\n",
    "\n",
    "test_dataset_delta = make_test_delta(num_of_data, 1, 200, 0.3, strike, expiry, is_call)\n",
    "test_dataset_vega = make_test_vega(num_of_data, 0.0001, 1.0, 100, strike, expiry, is_call)"
   ]
  },
  {
   "cell_type": "code",
   "execution_count": 18,
   "metadata": {},
   "outputs": [],
   "source": [
    "norm_test_dataset_delta = normalize(test_dataset_delta)\n",
    "norm_test_label_delta = norm_test_dataset_delta.pop('pv')\n",
    "\n",
    "norm_test_predictions_delta = model.predict(norm_test_dataset_delta).flatten()\n",
    "\n",
    "test_predictions_delta = pd.Series(norm_test_predictions_delta * train_stats['std'].pv + train_stats['mean'].pv)\n",
    "test_dataset_delta['pv_ml'] = test_predictions_delta"
   ]
  },
  {
   "cell_type": "code",
   "execution_count": 19,
   "metadata": {},
   "outputs": [
    {
     "data": {
      "text/plain": [
       "<matplotlib.legend.Legend at 0x1ed92467fd0>"
      ]
     },
     "execution_count": 19,
     "metadata": {},
     "output_type": "execute_result"
    },
    {
     "data": {
      "image/png": "[encoded data removed]",
      "text/plain": [
       "<Figure size 432x288 with 1 Axes>"
      ]
     },
     "metadata": {
      "needs_background": "light"
     },
     "output_type": "display_data"
    }
   ],
   "source": [
    "plt.figure()\n",
    "plt.xlabel('fwd')\n",
    "plt.ylabel('pv')\n",
    "plt.plot(test_dataset_delta['fwd'], test_dataset_delta['pv'], label='PV')\n",
    "plt.plot(test_dataset_delta['fwd'], test_dataset_delta['pv_ml'], label='PV(ML)')\n",
    "plt.legend()"
   ]
  },
  {
   "cell_type": "code",
   "execution_count": 20,
   "metadata": {},
   "outputs": [],
   "source": [
    "norm_test_dataset_vega = normalize(test_dataset_vega)\n",
    "norm_test_label_vega = norm_test_dataset_vega.pop('pv')\n",
    "\n",
    "norm_test_predictions_vega = model.predict(norm_test_dataset_vega).flatten()\n",
    "\n",
    "test_predictions_vega = pd.Series(norm_test_predictions_vega * train_stats['std'].pv + train_stats['mean'].pv)\n",
    "test_dataset_vega['pv_ml'] = test_predictions_vega"
   ]
  },
  {
   "cell_type": "code",
   "execution_count": 21,
   "metadata": {},
   "outputs": [
    {
     "data": {
      "text/plain": [
       "<matplotlib.legend.Legend at 0x1ed9121deb8>"
      ]
     },
     "execution_count": 21,
     "metadata": {},
     "output_type": "execute_result"
    },
    {
     "data": {
      "image/png": "[encoded data removed]",
      "text/plain": [
       "<Figure size 432x288 with 1 Axes>"
      ]
     },
     "metadata": {
      "needs_background": "light"
     },
     "output_type": "display_data"
    }
   ],
   "source": [
    "plt.figure()\n",
    "plt.xlabel('vol')\n",
    "plt.ylabel('pv')\n",
    "plt.plot(test_dataset_vega['vol'], test_dataset_vega['pv'], label='PV')\n",
    "plt.plot(test_dataset_vega['vol'], test_dataset_vega['pv_ml'], label='PV(ML)')\n",
    "plt.legend()"
   ]
  },
  {
   "cell_type": "code",
   "execution_count": 22,
   "metadata": {},
   "outputs": [],
   "source": [
    "strike = 80.0\n",
    "expiry = 1.0\n",
    "is_call = True\n",
    "\n",
    "test_dataset_delta = make_test_delta(num_of_data, 1, 200, 0.3, strike, expiry, is_call)\n",
    "test_dataset_vega = make_test_vega(num_of_data, 0.0001, 1.0, 100, strike, expiry, is_call)"
   ]
  },
  {
   "cell_type": "code",
   "execution_count": 23,
   "metadata": {},
   "outputs": [],
   "source": [
    "norm_test_dataset_delta = normalize(test_dataset_delta)\n",
    "norm_test_label_delta = norm_test_dataset_delta.pop('pv')\n",
    "\n",
    "norm_test_predictions_delta = model.predict(norm_test_dataset_delta).flatten()\n",
    "\n",
    "test_predictions_delta = pd.Series(norm_test_predictions_delta * train_stats['std'].pv + train_stats['mean'].pv)\n",
    "test_dataset_delta['pv_ml'] = test_predictions_delta"
   ]
  },
  {
   "cell_type": "code",
   "execution_count": 24,
   "metadata": {},
   "outputs": [
    {
     "data": {
      "text/plain": [
       "<matplotlib.legend.Legend at 0x1ed92422a90>"
      ]
     },
     "execution_count": 24,
     "metadata": {},
     "output_type": "execute_result"
    },
    {
     "data": {
      "image/png": "[encoded data removed]",
      "text/plain": [
       "<Figure size 432x288 with 1 Axes>"
      ]
     },
     "metadata": {
      "needs_background": "light"
     },
     "output_type": "display_data"
    }
   ],
   "source": [
    "plt.figure()\n",
    "plt.xlabel('fwd')\n",
    "plt.ylabel('pv')\n",
    "plt.plot(test_dataset_delta['fwd'], test_dataset_delta['pv'], label='PV')\n",
    "plt.plot(test_dataset_delta['fwd'], test_dataset_delta['pv_ml'], label='PV(ML)')\n",
    "plt.legend()"
   ]
  },
  {
   "cell_type": "code",
   "execution_count": 25,
   "metadata": {},
   "outputs": [],
   "source": [
    "norm_test_dataset_vega = normalize(test_dataset_vega)\n",
    "norm_test_label_vega = norm_test_dataset_vega.pop('pv')\n",
    "\n",
    "norm_test_predictions_vega = model.predict(norm_test_dataset_vega).flatten()\n",
    "\n",
    "test_predictions_vega = pd.Series(norm_test_predictions_vega * train_stats['std'].pv + train_stats['mean'].pv)\n",
    "test_dataset_vega['pv_ml'] = test_predictions_vega"
   ]
  },
  {
   "cell_type": "code",
   "execution_count": 26,
   "metadata": {},
   "outputs": [
    {
     "data": {
      "text/plain": [
       "<matplotlib.legend.Legend at 0x1ed924c7588>"
      ]
     },
     "execution_count": 26,
     "metadata": {},
     "output_type": "execute_result"
    },
    {
     "data": {
      "image/png": "[encoded data removed]",
      "text/plain": [
       "<Figure size 432x288 with 1 Axes>"
      ]
     },
     "metadata": {
      "needs_background": "light"
     },
     "output_type": "display_data"
    }
   ],
   "source": [
    "plt.figure()\n",
    "plt.xlabel('vol')\n",
    "plt.ylabel('pv')\n",
    "plt.plot(test_dataset_vega['vol'], test_dataset_vega['pv'], label='PV')\n",
    "plt.plot(test_dataset_vega['vol'], test_dataset_vega['pv_ml'], label='PV(ML)')\n",
    "plt.legend()"
   ]
  },
  {
   "cell_type": "code",
   "execution_count": 27,
   "metadata": {},
   "outputs": [],
   "source": [
    "strike = 120.0\n",
    "expiry = 1.0\n",
    "is_call = True\n",
    "\n",
    "test_dataset_delta = make_test_delta(num_of_data, 1, 200, 0.3, strike, expiry, is_call)\n",
    "test_dataset_vega = make_test_vega(num_of_data, 0.0001, 1.0, 100, strike, expiry, is_call)"
   ]
  },
  {
   "cell_type": "code",
   "execution_count": 28,
   "metadata": {},
   "outputs": [],
   "source": [
    "norm_test_dataset_delta = normalize(test_dataset_delta)\n",
    "norm_test_label_delta = norm_test_dataset_delta.pop('pv')\n",
    "\n",
    "norm_test_predictions_delta = model.predict(norm_test_dataset_delta).flatten()\n",
    "\n",
    "test_predictions_delta = pd.Series(norm_test_predictions_delta * train_stats['std'].pv + train_stats['mean'].pv)\n",
    "test_dataset_delta['pv_ml'] = test_predictions_delta"
   ]
  },
  {
   "cell_type": "code",
   "execution_count": 29,
   "metadata": {},
   "outputs": [
    {
     "data": {
      "text/plain": [
       "<matplotlib.legend.Legend at 0x1ed970709e8>"
      ]
     },
     "execution_count": 29,
     "metadata": {},
     "output_type": "execute_result"
    },
    {
     "data": {
      "image/png": "[encoded data removed]",
      "text/plain": [
       "<Figure size 432x288 with 1 Axes>"
      ]
     },
     "metadata": {
      "needs_background": "light"
     },
     "output_type": "display_data"
    }
   ],
   "source": [
    "plt.figure()\n",
    "plt.xlabel('fwd')\n",
    "plt.ylabel('pv')\n",
    "plt.plot(test_dataset_delta['fwd'], test_dataset_delta['pv'], label='PV')\n",
    "plt.plot(test_dataset_delta['fwd'], test_dataset_delta['pv_ml'], label='PV(ML)')\n",
    "plt.legend()"
   ]
  },
  {
   "cell_type": "code",
   "execution_count": 30,
   "metadata": {},
   "outputs": [],
   "source": [
    "norm_test_dataset_vega = normalize(test_dataset_vega)\n",
    "norm_test_label_vega = norm_test_dataset_vega.pop('pv')\n",
    "\n",
    "norm_test_predictions_vega = model.predict(norm_test_dataset_vega).flatten()\n",
    "\n",
    "test_predictions_vega = pd.Series(norm_test_predictions_vega * train_stats['std'].pv + train_stats['mean'].pv)\n",
    "test_dataset_vega['pv_ml'] = test_predictions_vega"
   ]
  },
  {
   "cell_type": "code",
   "execution_count": 31,
   "metadata": {},
   "outputs": [
    {
     "data": {
      "text/plain": [
       "<matplotlib.legend.Legend at 0x1ed932b9f60>"
      ]
     },
     "execution_count": 31,
     "metadata": {},
     "output_type": "execute_result"
    },
    {
     "data": {
      "image/png": "[encoded data removed]",
      "text/plain": [
       "<Figure size 432x288 with 1 Axes>"
      ]
     },
     "metadata": {
      "needs_background": "light"
     },
     "output_type": "display_data"
    }
   ],
   "source": [
    "plt.figure()\n",
    "plt.xlabel('vol')\n",
    "plt.ylabel('pv')\n",
    "plt.plot(test_dataset_vega['vol'], test_dataset_vega['pv'], label='PV')\n",
    "plt.plot(test_dataset_vega['vol'], test_dataset_vega['pv_ml'], label='PV(ML)')\n",
    "plt.legend()"
   ]
  },
  {
   "cell_type": "code",
   "execution_count": null,
   "metadata": {},
   "outputs": [],
   "source": []
  },
  {
   "cell_type": "code",
   "execution_count": null,
   "metadata": {},
   "outputs": [],
   "source": []
  },
  {
   "cell_type": "code",
   "execution_count": null,
   "metadata": {},
   "outputs": [],
   "source": []
  }
 ],
 "metadata": {
  "kernelspec": {
   "display_name": "Python 3",
   "language": "python",
   "name": "python3"
  },
  "language_info": {
   "codemirror_mode": {
    "name": "ipython",
    "version": 3
   },
   "file_extension": ".py",
   "mimetype": "text/x-python",
   "name": "python",
   "nbconvert_exporter": "python",
   "pygments_lexer": "ipython3",
   "version": "3.7.3"
  }
 },
 "nbformat": 4,
 "nbformat_minor": 2
}
