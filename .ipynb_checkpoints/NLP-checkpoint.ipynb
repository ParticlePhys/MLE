{
 "cells": [
  {
   "cell_type": "code",
   "execution_count": 1,
   "metadata": {},
   "outputs": [],
   "source": [
    "import MeCab"
   ]
  },
  {
   "cell_type": "code",
   "execution_count": 6,
   "metadata": {},
   "outputs": [],
   "source": [
    "def parse_text(text):\n",
    "    tagger = MeCab.Tagger(\"-Ochasen\")\n",
    "    node = tagger.parseToNode(text)\n",
    "    word_class = []\n",
    "    while node:\n",
    "        word = node.surface\n",
    "        wclass = node.feature.split(',')\n",
    "        if wclass[0] == 'BOS':\n",
    "            word_class.append('BOS')\n",
    "        elif wclass[0] == 'EOS':\n",
    "            word_class.append('BOS')\n",
    "        else:\n",
    "            word_class.append(word)\n",
    "        node = node.next\n",
    "    return word_class"
   ]
  },
  {
   "cell_type": "code",
   "execution_count": 7,
   "metadata": {},
   "outputs": [
    {
     "name": "stdout",
     "output_type": "stream",
     "text": [
      "['', 'すもも', 'も', 'もも', 'も', 'もも', 'の', 'うち', '']\n"
     ]
    }
   ],
   "source": [
    "test = parse_text(\"すもももももももものうち\")\n",
    "print(test)"
   ]
  },
  {
   "cell_type": "code",
   "execution_count": null,
   "metadata": {},
   "outputs": [],
   "source": []
  }
 ],
 "metadata": {
  "kernelspec": {
   "display_name": "Python 3",
   "language": "python",
   "name": "python3"
  },
  "language_info": {
   "codemirror_mode": {
    "name": "ipython",
    "version": 3
   },
   "file_extension": ".py",
   "mimetype": "text/x-python",
   "name": "python",
   "nbconvert_exporter": "python",
   "pygments_lexer": "ipython3",
   "version": "3.7.3"
  }
 },
 "nbformat": 4,
 "nbformat_minor": 2
}
